{
 "cells": [
  {
   "cell_type": "markdown",
   "id": "c2aaefac",
   "metadata": {},
   "source": [
    "# Gesucht: Wie erhält man 7?\n",
    "x = 5\n",
    "# ??? (hier soll der Teilnehmer den Operator einsetzen)\n",
    "print(x)  # Ausgabe: 7"
   ]
  },
  {
   "cell_type": "code",
   "execution_count": null,
   "id": "bf887c0c",
   "metadata": {},
   "outputs": [],
   "source": []
  },
  {
   "cell_type": "markdown",
   "id": "1f68e59d",
   "metadata": {},
   "source": [
    "\"\"\"\n",
    "✅ bsp.Lösung (nur zur Kontrolle):\n",
    "\n",
    "x = 5\n",
    "x += 2     # x = x + 2 → 7\n",
    "print(x)   # Ausgabe: 7\n",
    "\"\"\""
   ]
  }
 ],
 "metadata": {
  "language_info": {
   "name": "python"
  }
 },
 "nbformat": 4,
 "nbformat_minor": 5
}
